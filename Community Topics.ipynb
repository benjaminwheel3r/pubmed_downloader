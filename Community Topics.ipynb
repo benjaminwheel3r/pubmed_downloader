{
 "cells": [
  {
   "cell_type": "code",
   "execution_count": 1,
   "metadata": {
    "collapsed": false
   },
   "outputs": [
    {
     "name": "stderr",
     "output_type": "stream",
     "text": [
      "Using gpu device 0: GeForce GT 640 (CNMeM is disabled, cuDNN not available)\n"
     ]
    }
   ],
   "source": [
    "import pandas as pd\n",
    "from fetch import *\n",
    "from network_analysis import create_corpus, LDA_topics\n",
    "from collections import defaultdict"
   ]
  },
  {
   "cell_type": "code",
   "execution_count": 2,
   "metadata": {
    "collapsed": false
   },
   "outputs": [
    {
     "name": "stderr",
     "output_type": "stream",
     "text": [
      "/usr/local/lib/python3.5/dist-packages/funcy/decorators.py:56: DeprecationWarning: inspect.getargspec() is deprecated, use inspect.signature() instead\n",
      "  spec = inspect.getargspec(func)\n",
      "/usr/local/lib/python3.5/dist-packages/funcy/decorators.py:56: DeprecationWarning: inspect.getargspec() is deprecated, use inspect.signature() instead\n",
      "  spec = inspect.getargspec(func)\n",
      "/usr/local/lib/python3.5/dist-packages/funcy/decorators.py:56: DeprecationWarning: inspect.getargspec() is deprecated, use inspect.signature() instead\n",
      "  spec = inspect.getargspec(func)\n",
      "/usr/local/lib/python3.5/dist-packages/funcy/decorators.py:56: DeprecationWarning: inspect.getargspec() is deprecated, use inspect.signature() instead\n",
      "  spec = inspect.getargspec(func)\n",
      "/usr/local/lib/python3.5/dist-packages/funcy/decorators.py:56: DeprecationWarning: inspect.getargspec() is deprecated, use inspect.signature() instead\n",
      "  spec = inspect.getargspec(func)\n",
      "/usr/local/lib/python3.5/dist-packages/funcy/decorators.py:56: DeprecationWarning: inspect.getargspec() is deprecated, use inspect.signature() instead\n",
      "  spec = inspect.getargspec(func)\n"
     ]
    }
   ],
   "source": [
    "from ipywidgets import interact, interactive, fixed\n",
    "import ipywidgets as widgets\n",
    "import pyLDAvis.gensim as gensimvis\n",
    "import pyLDAvis"
   ]
  },
  {
   "cell_type": "markdown",
   "metadata": {},
   "source": [
    "Primeiro definimos uma função para extrair as comunidades dos artigos gerados pela Sabrina"
   ]
  },
  {
   "cell_type": "code",
   "execution_count": 3,
   "metadata": {
    "collapsed": true
   },
   "outputs": [],
   "source": [
    "def monta_comunidades(fname):\n",
    "    communities = defaultdict(lambda:[])\n",
    "    with open(fname) as f:\n",
    "        while True:\n",
    "            pmids = f.readline().strip().split(' ')\n",
    "            commies = [c for c in f.readline().strip().split(' ') if c !='']\n",
    "            if commies == []:\n",
    "                break\n",
    "#             print(commies)\n",
    "            for p,c in zip(pmids,commies):\n",
    "                communities[int(c)].append(p)\n",
    "    return communities"
   ]
  },
  {
   "cell_type": "code",
   "execution_count": 4,
   "metadata": {
    "collapsed": false
   },
   "outputs": [],
   "source": [
    "comz = monta_comunidades('zika_communities.txt')\n",
    "# print(comz)\n",
    "comm = monta_comunidades('mers_communities.txt')\n",
    "# print(comm)"
   ]
  },
  {
   "cell_type": "markdown",
   "metadata": {},
   "source": [
    "## Criando os Corpora e seus vocabulários\n",
    "\n",
    "### Zika"
   ]
  },
  {
   "cell_type": "code",
   "execution_count": 5,
   "metadata": {
    "collapsed": false
   },
   "outputs": [],
   "source": [
    "corpora_z = {}\n",
    "for c, pmids in comz.items():\n",
    "    corpus, dic = create_corpus('zika', filter={\"MedlineCitation.PMID\":{\"$in\":pmids}})\n",
    "    if sum([len(l) for l in corpus]) == 0:\n",
    "        continue #ignore when all documents are empty\n",
    "    corpora_z[c] = corpus, dic\n",
    "# print(corpora_z)\n",
    "                                        "
   ]
  },
  {
   "cell_type": "markdown",
   "metadata": {},
   "source": [
    "### MERS"
   ]
  },
  {
   "cell_type": "code",
   "execution_count": 6,
   "metadata": {
    "collapsed": false,
    "scrolled": false
   },
   "outputs": [],
   "source": [
    "corpora_m = {}\n",
    "for c, pmids in comm.items():\n",
    "    corpus, dic = create_corpus('mers', filter={\"MedlineCitation.PMID\":{\"$in\":pmids}})\n",
    "    if sum([len(l) for l in corpus]) == 0:\n",
    "        continue #ignore when all documents are empty\n",
    "    corpora_m[c] = corpus, dic\n",
    "\n",
    "# print(corpora_m)"
   ]
  },
  {
   "cell_type": "markdown",
   "metadata": {},
   "source": [
    "### Full Corpus"
   ]
  },
  {
   "cell_type": "code",
   "execution_count": 7,
   "metadata": {
    "collapsed": false
   },
   "outputs": [],
   "source": [
    "corpora_fz = {}\n",
    "corpus_fz, dic_fz = create_corpus('zika')\n",
    "lda_full_z = LDA_topics(corpus_fz,dic_fz,15)"
   ]
  },
  {
   "cell_type": "code",
   "execution_count": 8,
   "metadata": {
    "collapsed": true
   },
   "outputs": [],
   "source": [
    "corpora_fm = {}\n",
    "corpus_fm, dic_fm = create_corpus('mers')\n",
    "lda_full_m = LDA_topics(corpus_fm,dic_fm,15)"
   ]
  },
  {
   "cell_type": "code",
   "execution_count": 9,
   "metadata": {
    "collapsed": false,
    "scrolled": true
   },
   "outputs": [],
   "source": [
    "# @interact(c=corpora_z)\n",
    "# def gera_visualização(c):\n",
    "#     vis_data = gensimvis.prepare(lda_full_z, corpus_fz, dic_fz)\n",
    "#     pyLDAvis.display(vis_data)"
   ]
  },
  {
   "cell_type": "code",
   "execution_count": 15,
   "metadata": {
    "collapsed": false
   },
   "outputs": [
    {
     "name": "stdout",
     "output_type": "stream",
     "text": [
      "0.028*ZIKV + 0.017*virus + 0.016*Zika + 0.015*.', + 0.015*infection + 0.014*microcephaly + 0.013*The + 0.011*data + 0.008*findings + 0.008*1\n"
     ]
    }
   ],
   "source": [
    "@interact(c=corpora_z)\n",
    "def com_topics(c):\n",
    "    dic = c[1]\n",
    "    corpus_lda = lda_full_z[c[0]]\n",
    "    corpus_topics = defaultdict(lambda:[])\n",
    "    doc_topics = [sorted(doc, key=lambda item: -item[1]) for doc in corpus_lda]\n",
    "    for doc in doc_topics:\n",
    "        for t,w in doc:\n",
    "            corpus_topics[t].append(w)\n",
    "    for t,ws in corpus_topics.items():\n",
    "        corpus_topics[t] = sum(ws)/len(ws)\n",
    "#     print(corpus_topics)\n",
    "    #Sorting\n",
    "    sorted_topics = sorted(corpus_topics,key=corpus_topics.get, reverse=True)\n",
    "    #print(sorted_topics)\n",
    "    top_topic = sorted_topics[0]\n",
    "    print(lda_full_z.print_topic(top_topic))"
   ]
  },
  {
   "cell_type": "code",
   "execution_count": 17,
   "metadata": {
    "collapsed": false
   },
   "outputs": [
    {
     "name": "stdout",
     "output_type": "stream",
     "text": [
      "0.022*SARS + 0.012*health + 0.008*disease + 0.008*control + 0.007*outbreak + 0.007*care + 0.006*infectious + 0.006*.', + 0.006*public + 0.005*This\n"
     ]
    }
   ],
   "source": [
    "@interact(c=corpora_m)\n",
    "def com_topics(c):\n",
    "    dic = c[1]\n",
    "    corpus_lda = lda_full_m[c[0]]\n",
    "    corpus_topics = defaultdict(lambda:[])\n",
    "    doc_topics = [sorted(doc, key=lambda item: -item[1]) for doc in corpus_lda]\n",
    "    for doc in doc_topics:\n",
    "        for t,w in doc:\n",
    "            corpus_topics[t].append(w)\n",
    "    for t,ws in corpus_topics.items():\n",
    "        corpus_topics[t] = sum(ws)/len(ws)\n",
    "#     print(corpus_topics)\n",
    "    #Sorting\n",
    "    sorted_topics = sorted(corpus_topics,key=corpus_topics.get, reverse=True)\n",
    "    #print(sorted_topics)\n",
    "    top_topic = sorted_topics[0]\n",
    "    print(lda_full_m.print_topic(top_topic))"
   ]
  },
  {
   "cell_type": "code",
   "execution_count": null,
   "metadata": {
    "collapsed": true
   },
   "outputs": [],
   "source": []
  }
 ],
 "metadata": {
  "kernelspec": {
   "display_name": "Python 3",
   "language": "python",
   "name": "python3"
  },
  "language_info": {
   "codemirror_mode": {
    "name": "ipython",
    "version": 3
   },
   "file_extension": ".py",
   "mimetype": "text/x-python",
   "name": "python",
   "nbconvert_exporter": "python",
   "pygments_lexer": "ipython3",
   "version": "3.5.2"
  },
  "widgets": {
   "state": {
    "390b942b27954eb2af428097604590dd": {
     "views": [
      {
       "cell_index": 15
      }
     ]
    },
    "c1a381aa28534cb4b589cd3e3402840f": {
     "views": [
      {
       "cell_index": 13
      }
     ]
    }
   },
   "version": "1.2.0"
  }
 },
 "nbformat": 4,
 "nbformat_minor": 1
}
